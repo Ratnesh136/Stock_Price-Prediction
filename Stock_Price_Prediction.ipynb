{
  "nbformat": 4,
  "nbformat_minor": 0,
  "metadata": {
    "colab": {
      "provenance": [],
      "collapsed_sections": [],
      "authorship_tag": "ABX9TyOholvY1xuNNClXq9hMjQIR"
    },
    "kernelspec": {
      "name": "python3",
      "display_name": "Python 3"
    },
    "language_info": {
      "name": "python"
    },
    "accelerator": "GPU",
    "gpuClass": "standard"
  },
  "cells": [
    {
      "cell_type": "markdown",
      "source": [
        "### Importing all the neccarry Libraries used in the model"
      ],
      "metadata": {
        "id": "kakrneG-Czt1"
      }
    },
    {
      "cell_type": "code",
      "execution_count": 1,
      "metadata": {
        "id": "VpKvxfvphdTN"
      },
      "outputs": [],
      "source": [
        "import pandas as pd\n",
        "import numpy as np\n",
        "import matplotlib.pyplot as plt\n",
        "import seaborn as sns\n",
        "from sklearn.preprocessing import MinMaxScaler\n",
        "from sklearn.model_selection import learning_curve\n",
        "from keras.models import Sequential\n",
        "from keras.layers import LSTM, Dense, Dropout"
      ]
    },
    {
      "cell_type": "markdown",
      "source": [
        "### Importing train dataset"
      ],
      "metadata": {
        "id": "4Z6oc3e1DR_P"
      }
    },
    {
      "cell_type": "code",
      "source": [
        "data= pd.read_csv('./Google_Stock_Price_Train.csv', parse_dates= ['Date'], index_col= 'Date')"
      ],
      "metadata": {
        "id": "lnaX6jG4h6fn"
      },
      "execution_count": 2,
      "outputs": []
    },
    {
      "cell_type": "code",
      "source": [
        "data.head()"
      ],
      "metadata": {
        "id": "auDSGR0-ia01",
        "colab": {
          "base_uri": "https://localhost:8080/",
          "height": 237
        },
        "outputId": "c20ead56-b3b2-4c41-b164-ded45a59a8dd"
      },
      "execution_count": 3,
      "outputs": [
        {
          "output_type": "execute_result",
          "data": {
            "text/plain": [
              "              Open    High     Low   Close      Volume\n",
              "Date                                                  \n",
              "2012-01-03  325.25  332.83  324.97  663.59   7,380,500\n",
              "2012-01-04  331.27  333.87  329.08  666.45   5,749,400\n",
              "2012-01-05  329.83  330.75  326.89  657.21   6,590,300\n",
              "2012-01-06  328.34  328.77  323.68  648.24   5,405,900\n",
              "2012-01-09  322.04  322.29  309.46  620.76  11,688,800"
            ],
            "text/html": [
              "\n",
              "  <div id=\"df-0df1fb1c-f888-445d-973e-8a19d6941364\">\n",
              "    <div class=\"colab-df-container\">\n",
              "      <div>\n",
              "<style scoped>\n",
              "    .dataframe tbody tr th:only-of-type {\n",
              "        vertical-align: middle;\n",
              "    }\n",
              "\n",
              "    .dataframe tbody tr th {\n",
              "        vertical-align: top;\n",
              "    }\n",
              "\n",
              "    .dataframe thead th {\n",
              "        text-align: right;\n",
              "    }\n",
              "</style>\n",
              "<table border=\"1\" class=\"dataframe\">\n",
              "  <thead>\n",
              "    <tr style=\"text-align: right;\">\n",
              "      <th></th>\n",
              "      <th>Open</th>\n",
              "      <th>High</th>\n",
              "      <th>Low</th>\n",
              "      <th>Close</th>\n",
              "      <th>Volume</th>\n",
              "    </tr>\n",
              "    <tr>\n",
              "      <th>Date</th>\n",
              "      <th></th>\n",
              "      <th></th>\n",
              "      <th></th>\n",
              "      <th></th>\n",
              "      <th></th>\n",
              "    </tr>\n",
              "  </thead>\n",
              "  <tbody>\n",
              "    <tr>\n",
              "      <th>2012-01-03</th>\n",
              "      <td>325.25</td>\n",
              "      <td>332.83</td>\n",
              "      <td>324.97</td>\n",
              "      <td>663.59</td>\n",
              "      <td>7,380,500</td>\n",
              "    </tr>\n",
              "    <tr>\n",
              "      <th>2012-01-04</th>\n",
              "      <td>331.27</td>\n",
              "      <td>333.87</td>\n",
              "      <td>329.08</td>\n",
              "      <td>666.45</td>\n",
              "      <td>5,749,400</td>\n",
              "    </tr>\n",
              "    <tr>\n",
              "      <th>2012-01-05</th>\n",
              "      <td>329.83</td>\n",
              "      <td>330.75</td>\n",
              "      <td>326.89</td>\n",
              "      <td>657.21</td>\n",
              "      <td>6,590,300</td>\n",
              "    </tr>\n",
              "    <tr>\n",
              "      <th>2012-01-06</th>\n",
              "      <td>328.34</td>\n",
              "      <td>328.77</td>\n",
              "      <td>323.68</td>\n",
              "      <td>648.24</td>\n",
              "      <td>5,405,900</td>\n",
              "    </tr>\n",
              "    <tr>\n",
              "      <th>2012-01-09</th>\n",
              "      <td>322.04</td>\n",
              "      <td>322.29</td>\n",
              "      <td>309.46</td>\n",
              "      <td>620.76</td>\n",
              "      <td>11,688,800</td>\n",
              "    </tr>\n",
              "  </tbody>\n",
              "</table>\n",
              "</div>\n",
              "      <button class=\"colab-df-convert\" onclick=\"convertToInteractive('df-0df1fb1c-f888-445d-973e-8a19d6941364')\"\n",
              "              title=\"Convert this dataframe to an interactive table.\"\n",
              "              style=\"display:none;\">\n",
              "        \n",
              "  <svg xmlns=\"http://www.w3.org/2000/svg\" height=\"24px\"viewBox=\"0 0 24 24\"\n",
              "       width=\"24px\">\n",
              "    <path d=\"M0 0h24v24H0V0z\" fill=\"none\"/>\n",
              "    <path d=\"M18.56 5.44l.94 2.06.94-2.06 2.06-.94-2.06-.94-.94-2.06-.94 2.06-2.06.94zm-11 1L8.5 8.5l.94-2.06 2.06-.94-2.06-.94L8.5 2.5l-.94 2.06-2.06.94zm10 10l.94 2.06.94-2.06 2.06-.94-2.06-.94-.94-2.06-.94 2.06-2.06.94z\"/><path d=\"M17.41 7.96l-1.37-1.37c-.4-.4-.92-.59-1.43-.59-.52 0-1.04.2-1.43.59L10.3 9.45l-7.72 7.72c-.78.78-.78 2.05 0 2.83L4 21.41c.39.39.9.59 1.41.59.51 0 1.02-.2 1.41-.59l7.78-7.78 2.81-2.81c.8-.78.8-2.07 0-2.86zM5.41 20L4 18.59l7.72-7.72 1.47 1.35L5.41 20z\"/>\n",
              "  </svg>\n",
              "      </button>\n",
              "      \n",
              "  <style>\n",
              "    .colab-df-container {\n",
              "      display:flex;\n",
              "      flex-wrap:wrap;\n",
              "      gap: 12px;\n",
              "    }\n",
              "\n",
              "    .colab-df-convert {\n",
              "      background-color: #E8F0FE;\n",
              "      border: none;\n",
              "      border-radius: 50%;\n",
              "      cursor: pointer;\n",
              "      display: none;\n",
              "      fill: #1967D2;\n",
              "      height: 32px;\n",
              "      padding: 0 0 0 0;\n",
              "      width: 32px;\n",
              "    }\n",
              "\n",
              "    .colab-df-convert:hover {\n",
              "      background-color: #E2EBFA;\n",
              "      box-shadow: 0px 1px 2px rgba(60, 64, 67, 0.3), 0px 1px 3px 1px rgba(60, 64, 67, 0.15);\n",
              "      fill: #174EA6;\n",
              "    }\n",
              "\n",
              "    [theme=dark] .colab-df-convert {\n",
              "      background-color: #3B4455;\n",
              "      fill: #D2E3FC;\n",
              "    }\n",
              "\n",
              "    [theme=dark] .colab-df-convert:hover {\n",
              "      background-color: #434B5C;\n",
              "      box-shadow: 0px 1px 3px 1px rgba(0, 0, 0, 0.15);\n",
              "      filter: drop-shadow(0px 1px 2px rgba(0, 0, 0, 0.3));\n",
              "      fill: #FFFFFF;\n",
              "    }\n",
              "  </style>\n",
              "\n",
              "      <script>\n",
              "        const buttonEl =\n",
              "          document.querySelector('#df-0df1fb1c-f888-445d-973e-8a19d6941364 button.colab-df-convert');\n",
              "        buttonEl.style.display =\n",
              "          google.colab.kernel.accessAllowed ? 'block' : 'none';\n",
              "\n",
              "        async function convertToInteractive(key) {\n",
              "          const element = document.querySelector('#df-0df1fb1c-f888-445d-973e-8a19d6941364');\n",
              "          const dataTable =\n",
              "            await google.colab.kernel.invokeFunction('convertToInteractive',\n",
              "                                                     [key], {});\n",
              "          if (!dataTable) return;\n",
              "\n",
              "          const docLinkHtml = 'Like what you see? Visit the ' +\n",
              "            '<a target=\"_blank\" href=https://colab.research.google.com/notebooks/data_table.ipynb>data table notebook</a>'\n",
              "            + ' to learn more about interactive tables.';\n",
              "          element.innerHTML = '';\n",
              "          dataTable['output_type'] = 'display_data';\n",
              "          await google.colab.output.renderOutput(dataTable, element);\n",
              "          const docLink = document.createElement('div');\n",
              "          docLink.innerHTML = docLinkHtml;\n",
              "          element.appendChild(docLink);\n",
              "        }\n",
              "      </script>\n",
              "    </div>\n",
              "  </div>\n",
              "  "
            ]
          },
          "metadata": {},
          "execution_count": 3
        }
      ]
    },
    {
      "cell_type": "code",
      "source": [
        "data.info()"
      ],
      "metadata": {
        "colab": {
          "base_uri": "https://localhost:8080/"
        },
        "id": "gNu7b5FOpfc7",
        "outputId": "11b53580-198b-447f-f58a-30c7ca2de0f0"
      },
      "execution_count": 4,
      "outputs": [
        {
          "output_type": "stream",
          "name": "stdout",
          "text": [
            "<class 'pandas.core.frame.DataFrame'>\n",
            "DatetimeIndex: 1258 entries, 2012-01-03 to 2016-12-30\n",
            "Data columns (total 5 columns):\n",
            " #   Column  Non-Null Count  Dtype  \n",
            "---  ------  --------------  -----  \n",
            " 0   Open    1258 non-null   float64\n",
            " 1   High    1258 non-null   float64\n",
            " 2   Low     1258 non-null   float64\n",
            " 3   Close   1258 non-null   object \n",
            " 4   Volume  1258 non-null   object \n",
            "dtypes: float64(3), object(2)\n",
            "memory usage: 59.0+ KB\n"
          ]
        }
      ]
    },
    {
      "cell_type": "markdown",
      "source": [
        "### Converting the Close feature datatype into numeric  "
      ],
      "metadata": {
        "id": "BAn878TPDoi_"
      }
    },
    {
      "cell_type": "code",
      "source": [
        "data['Close']= data['Close'].str.replace(',', '')\n",
        "data['Close']= pd.to_numeric(data['Close'])"
      ],
      "metadata": {
        "id": "tLS2rea5dHDx"
      },
      "execution_count": 5,
      "outputs": []
    },
    {
      "cell_type": "code",
      "source": [
        "data.info()"
      ],
      "metadata": {
        "colab": {
          "base_uri": "https://localhost:8080/"
        },
        "id": "Uol_qTXzrI9P",
        "outputId": "221101e0-940f-408a-f661-1c78c2d5c006"
      },
      "execution_count": 6,
      "outputs": [
        {
          "output_type": "stream",
          "name": "stdout",
          "text": [
            "<class 'pandas.core.frame.DataFrame'>\n",
            "DatetimeIndex: 1258 entries, 2012-01-03 to 2016-12-30\n",
            "Data columns (total 5 columns):\n",
            " #   Column  Non-Null Count  Dtype  \n",
            "---  ------  --------------  -----  \n",
            " 0   Open    1258 non-null   float64\n",
            " 1   High    1258 non-null   float64\n",
            " 2   Low     1258 non-null   float64\n",
            " 3   Close   1258 non-null   float64\n",
            " 4   Volume  1258 non-null   object \n",
            "dtypes: float64(4), object(1)\n",
            "memory usage: 59.0+ KB\n"
          ]
        }
      ]
    },
    {
      "cell_type": "markdown",
      "source": [
        "### Creating the new dataframe with Close feature from data"
      ],
      "metadata": {
        "id": "q-1HLSM6Dz_G"
      }
    },
    {
      "cell_type": "code",
      "source": [
        "trained_data= data[['Close']]"
      ],
      "metadata": {
        "id": "dasdz3drpjR0"
      },
      "execution_count": 7,
      "outputs": []
    },
    {
      "cell_type": "code",
      "source": [
        "trained_data.head()"
      ],
      "metadata": {
        "colab": {
          "base_uri": "https://localhost:8080/",
          "height": 237
        },
        "id": "CsQDFwuMyatT",
        "outputId": "2379a393-352e-4557-b3b5-d17196131b07"
      },
      "execution_count": 8,
      "outputs": [
        {
          "output_type": "execute_result",
          "data": {
            "text/plain": [
              "             Close\n",
              "Date              \n",
              "2012-01-03  663.59\n",
              "2012-01-04  666.45\n",
              "2012-01-05  657.21\n",
              "2012-01-06  648.24\n",
              "2012-01-09  620.76"
            ],
            "text/html": [
              "\n",
              "  <div id=\"df-4b39d7e2-5e9f-4c08-a398-6e1f7095cd43\">\n",
              "    <div class=\"colab-df-container\">\n",
              "      <div>\n",
              "<style scoped>\n",
              "    .dataframe tbody tr th:only-of-type {\n",
              "        vertical-align: middle;\n",
              "    }\n",
              "\n",
              "    .dataframe tbody tr th {\n",
              "        vertical-align: top;\n",
              "    }\n",
              "\n",
              "    .dataframe thead th {\n",
              "        text-align: right;\n",
              "    }\n",
              "</style>\n",
              "<table border=\"1\" class=\"dataframe\">\n",
              "  <thead>\n",
              "    <tr style=\"text-align: right;\">\n",
              "      <th></th>\n",
              "      <th>Close</th>\n",
              "    </tr>\n",
              "    <tr>\n",
              "      <th>Date</th>\n",
              "      <th></th>\n",
              "    </tr>\n",
              "  </thead>\n",
              "  <tbody>\n",
              "    <tr>\n",
              "      <th>2012-01-03</th>\n",
              "      <td>663.59</td>\n",
              "    </tr>\n",
              "    <tr>\n",
              "      <th>2012-01-04</th>\n",
              "      <td>666.45</td>\n",
              "    </tr>\n",
              "    <tr>\n",
              "      <th>2012-01-05</th>\n",
              "      <td>657.21</td>\n",
              "    </tr>\n",
              "    <tr>\n",
              "      <th>2012-01-06</th>\n",
              "      <td>648.24</td>\n",
              "    </tr>\n",
              "    <tr>\n",
              "      <th>2012-01-09</th>\n",
              "      <td>620.76</td>\n",
              "    </tr>\n",
              "  </tbody>\n",
              "</table>\n",
              "</div>\n",
              "      <button class=\"colab-df-convert\" onclick=\"convertToInteractive('df-4b39d7e2-5e9f-4c08-a398-6e1f7095cd43')\"\n",
              "              title=\"Convert this dataframe to an interactive table.\"\n",
              "              style=\"display:none;\">\n",
              "        \n",
              "  <svg xmlns=\"http://www.w3.org/2000/svg\" height=\"24px\"viewBox=\"0 0 24 24\"\n",
              "       width=\"24px\">\n",
              "    <path d=\"M0 0h24v24H0V0z\" fill=\"none\"/>\n",
              "    <path d=\"M18.56 5.44l.94 2.06.94-2.06 2.06-.94-2.06-.94-.94-2.06-.94 2.06-2.06.94zm-11 1L8.5 8.5l.94-2.06 2.06-.94-2.06-.94L8.5 2.5l-.94 2.06-2.06.94zm10 10l.94 2.06.94-2.06 2.06-.94-2.06-.94-.94-2.06-.94 2.06-2.06.94z\"/><path d=\"M17.41 7.96l-1.37-1.37c-.4-.4-.92-.59-1.43-.59-.52 0-1.04.2-1.43.59L10.3 9.45l-7.72 7.72c-.78.78-.78 2.05 0 2.83L4 21.41c.39.39.9.59 1.41.59.51 0 1.02-.2 1.41-.59l7.78-7.78 2.81-2.81c.8-.78.8-2.07 0-2.86zM5.41 20L4 18.59l7.72-7.72 1.47 1.35L5.41 20z\"/>\n",
              "  </svg>\n",
              "      </button>\n",
              "      \n",
              "  <style>\n",
              "    .colab-df-container {\n",
              "      display:flex;\n",
              "      flex-wrap:wrap;\n",
              "      gap: 12px;\n",
              "    }\n",
              "\n",
              "    .colab-df-convert {\n",
              "      background-color: #E8F0FE;\n",
              "      border: none;\n",
              "      border-radius: 50%;\n",
              "      cursor: pointer;\n",
              "      display: none;\n",
              "      fill: #1967D2;\n",
              "      height: 32px;\n",
              "      padding: 0 0 0 0;\n",
              "      width: 32px;\n",
              "    }\n",
              "\n",
              "    .colab-df-convert:hover {\n",
              "      background-color: #E2EBFA;\n",
              "      box-shadow: 0px 1px 2px rgba(60, 64, 67, 0.3), 0px 1px 3px 1px rgba(60, 64, 67, 0.15);\n",
              "      fill: #174EA6;\n",
              "    }\n",
              "\n",
              "    [theme=dark] .colab-df-convert {\n",
              "      background-color: #3B4455;\n",
              "      fill: #D2E3FC;\n",
              "    }\n",
              "\n",
              "    [theme=dark] .colab-df-convert:hover {\n",
              "      background-color: #434B5C;\n",
              "      box-shadow: 0px 1px 3px 1px rgba(0, 0, 0, 0.15);\n",
              "      filter: drop-shadow(0px 1px 2px rgba(0, 0, 0, 0.3));\n",
              "      fill: #FFFFFF;\n",
              "    }\n",
              "  </style>\n",
              "\n",
              "      <script>\n",
              "        const buttonEl =\n",
              "          document.querySelector('#df-4b39d7e2-5e9f-4c08-a398-6e1f7095cd43 button.colab-df-convert');\n",
              "        buttonEl.style.display =\n",
              "          google.colab.kernel.accessAllowed ? 'block' : 'none';\n",
              "\n",
              "        async function convertToInteractive(key) {\n",
              "          const element = document.querySelector('#df-4b39d7e2-5e9f-4c08-a398-6e1f7095cd43');\n",
              "          const dataTable =\n",
              "            await google.colab.kernel.invokeFunction('convertToInteractive',\n",
              "                                                     [key], {});\n",
              "          if (!dataTable) return;\n",
              "\n",
              "          const docLinkHtml = 'Like what you see? Visit the ' +\n",
              "            '<a target=\"_blank\" href=https://colab.research.google.com/notebooks/data_table.ipynb>data table notebook</a>'\n",
              "            + ' to learn more about interactive tables.';\n",
              "          element.innerHTML = '';\n",
              "          dataTable['output_type'] = 'display_data';\n",
              "          await google.colab.output.renderOutput(dataTable, element);\n",
              "          const docLink = document.createElement('div');\n",
              "          docLink.innerHTML = docLinkHtml;\n",
              "          element.appendChild(docLink);\n",
              "        }\n",
              "      </script>\n",
              "    </div>\n",
              "  </div>\n",
              "  "
            ]
          },
          "metadata": {},
          "execution_count": 8
        }
      ]
    },
    {
      "cell_type": "markdown",
      "source": [
        "### Plotting the new Dataframe to find out the characterstics of close feature\n"
      ],
      "metadata": {
        "id": "rOt_9QrCE5Qj"
      }
    },
    {
      "cell_type": "code",
      "source": [
        "plt.figure(figsize=(16,5))\n",
        "trained_data.plot()\n",
        "plt.show()"
      ],
      "metadata": {
        "id": "P5vYjKYmickp",
        "colab": {
          "base_uri": "https://localhost:8080/",
          "height": 286
        },
        "outputId": "00b97b1b-0f4f-44b1-9a0d-5f69a92a2f65"
      },
      "execution_count": 9,
      "outputs": [
        {
          "output_type": "display_data",
          "data": {
            "text/plain": [
              "<Figure size 1152x360 with 0 Axes>"
            ]
          },
          "metadata": {}
        },
        {
          "output_type": "display_data",
          "data": {
            "text/plain": [
              "<Figure size 432x288 with 1 Axes>"
            ],
            "image/png": "[encoded data removed]"
          },
          "metadata": {
            "needs_background": "light"
          }
        }
      ]
    },
    {
      "cell_type": "code",
      "source": [
        "# train= trained_data[:round(len(trained_data)*0.80)]\n",
        "# test= trained_data[round(len(trained_data)*0.80):]"
      ],
      "metadata": {
        "id": "1V32iLYVbE7i"
      },
      "execution_count": 10,
      "outputs": []
    },
    {
      "cell_type": "code",
      "source": [
        "trained_data.head()"
      ],
      "metadata": {
        "colab": {
          "base_uri": "https://localhost:8080/",
          "height": 237
        },
        "id": "AEJevQKt95OS",
        "outputId": "5c0d9f9c-9e5e-467c-c466-c4dda853f71a"
      },
      "execution_count": 11,
      "outputs": [
        {
          "output_type": "execute_result",
          "data": {
            "text/plain": [
              "             Close\n",
              "Date              \n",
              "2012-01-03  663.59\n",
              "2012-01-04  666.45\n",
              "2012-01-05  657.21\n",
              "2012-01-06  648.24\n",
              "2012-01-09  620.76"
            ],
            "text/html": [
              "\n",
              "  <div id=\"df-4afa00fc-8224-4555-acdd-e7d5c8a122d0\">\n",
              "    <div class=\"colab-df-container\">\n",
              "      <div>\n",
              "<style scoped>\n",
              "    .dataframe tbody tr th:only-of-type {\n",
              "        vertical-align: middle;\n",
              "    }\n",
              "\n",
              "    .dataframe tbody tr th {\n",
              "        vertical-align: top;\n",
              "    }\n",
              "\n",
              "    .dataframe thead th {\n",
              "        text-align: right;\n",
              "    }\n",
              "</style>\n",
              "<table border=\"1\" class=\"dataframe\">\n",
              "  <thead>\n",
              "    <tr style=\"text-align: right;\">\n",
              "      <th></th>\n",
              "      <th>Close</th>\n",
              "    </tr>\n",
              "    <tr>\n",
              "      <th>Date</th>\n",
              "      <th></th>\n",
              "    </tr>\n",
              "  </thead>\n",
              "  <tbody>\n",
              "    <tr>\n",
              "      <th>2012-01-03</th>\n",
              "      <td>663.59</td>\n",
              "    </tr>\n",
              "    <tr>\n",
              "      <th>2012-01-04</th>\n",
              "      <td>666.45</td>\n",
              "    </tr>\n",
              "    <tr>\n",
              "      <th>2012-01-05</th>\n",
              "      <td>657.21</td>\n",
              "    </tr>\n",
              "    <tr>\n",
              "      <th>2012-01-06</th>\n",
              "      <td>648.24</td>\n",
              "    </tr>\n",
              "    <tr>\n",
              "      <th>2012-01-09</th>\n",
              "      <td>620.76</td>\n",
              "    </tr>\n",
              "  </tbody>\n",
              "</table>\n",
              "</div>\n",
              "      <button class=\"colab-df-convert\" onclick=\"convertToInteractive('df-4afa00fc-8224-4555-acdd-e7d5c8a122d0')\"\n",
              "              title=\"Convert this dataframe to an interactive table.\"\n",
              "              style=\"display:none;\">\n",
              "        \n",
              "  <svg xmlns=\"http://www.w3.org/2000/svg\" height=\"24px\"viewBox=\"0 0 24 24\"\n",
              "       width=\"24px\">\n",
              "    <path d=\"M0 0h24v24H0V0z\" fill=\"none\"/>\n",
              "    <path d=\"M18.56 5.44l.94 2.06.94-2.06 2.06-.94-2.06-.94-.94-2.06-.94 2.06-2.06.94zm-11 1L8.5 8.5l.94-2.06 2.06-.94-2.06-.94L8.5 2.5l-.94 2.06-2.06.94zm10 10l.94 2.06.94-2.06 2.06-.94-2.06-.94-.94-2.06-.94 2.06-2.06.94z\"/><path d=\"M17.41 7.96l-1.37-1.37c-.4-.4-.92-.59-1.43-.59-.52 0-1.04.2-1.43.59L10.3 9.45l-7.72 7.72c-.78.78-.78 2.05 0 2.83L4 21.41c.39.39.9.59 1.41.59.51 0 1.02-.2 1.41-.59l7.78-7.78 2.81-2.81c.8-.78.8-2.07 0-2.86zM5.41 20L4 18.59l7.72-7.72 1.47 1.35L5.41 20z\"/>\n",
              "  </svg>\n",
              "      </button>\n",
              "      \n",
              "  <style>\n",
              "    .colab-df-container {\n",
              "      display:flex;\n",
              "      flex-wrap:wrap;\n",
              "      gap: 12px;\n",
              "    }\n",
              "\n",
              "    .colab-df-convert {\n",
              "      background-color: #E8F0FE;\n",
              "      border: none;\n",
              "      border-radius: 50%;\n",
              "      cursor: pointer;\n",
              "      display: none;\n",
              "      fill: #1967D2;\n",
              "      height: 32px;\n",
              "      padding: 0 0 0 0;\n",
              "      width: 32px;\n",
              "    }\n",
              "\n",
              "    .colab-df-convert:hover {\n",
              "      background-color: #E2EBFA;\n",
              "      box-shadow: 0px 1px 2px rgba(60, 64, 67, 0.3), 0px 1px 3px 1px rgba(60, 64, 67, 0.15);\n",
              "      fill: #174EA6;\n",
              "    }\n",
              "\n",
              "    [theme=dark] .colab-df-convert {\n",
              "      background-color: #3B4455;\n",
              "      fill: #D2E3FC;\n",
              "    }\n",
              "\n",
              "    [theme=dark] .colab-df-convert:hover {\n",
              "      background-color: #434B5C;\n",
              "      box-shadow: 0px 1px 3px 1px rgba(0, 0, 0, 0.15);\n",
              "      filter: drop-shadow(0px 1px 2px rgba(0, 0, 0, 0.3));\n",
              "      fill: #FFFFFF;\n",
              "    }\n",
              "  </style>\n",
              "\n",
              "      <script>\n",
              "        const buttonEl =\n",
              "          document.querySelector('#df-4afa00fc-8224-4555-acdd-e7d5c8a122d0 button.colab-df-convert');\n",
              "        buttonEl.style.display =\n",
              "          google.colab.kernel.accessAllowed ? 'block' : 'none';\n",
              "\n",
              "        async function convertToInteractive(key) {\n",
              "          const element = document.querySelector('#df-4afa00fc-8224-4555-acdd-e7d5c8a122d0');\n",
              "          const dataTable =\n",
              "            await google.colab.kernel.invokeFunction('convertToInteractive',\n",
              "                                                     [key], {});\n",
              "          if (!dataTable) return;\n",
              "\n",
              "          const docLinkHtml = 'Like what you see? Visit the ' +\n",
              "            '<a target=\"_blank\" href=https://colab.research.google.com/notebooks/data_table.ipynb>data table notebook</a>'\n",
              "            + ' to learn more about interactive tables.';\n",
              "          element.innerHTML = '';\n",
              "          dataTable['output_type'] = 'display_data';\n",
              "          await google.colab.output.renderOutput(dataTable, element);\n",
              "          const docLink = document.createElement('div');\n",
              "          docLink.innerHTML = docLinkHtml;\n",
              "          element.appendChild(docLink);\n",
              "        }\n",
              "      </script>\n",
              "    </div>\n",
              "  </div>\n",
              "  "
            ]
          },
          "metadata": {},
          "execution_count": 11
        }
      ]
    },
    {
      "cell_type": "markdown",
      "source": [
        "### Using the MinMax Scaler to scale the value between 0 and 1"
      ],
      "metadata": {
        "id": "_rht1PAAFIv1"
      }
    },
    {
      "cell_type": "code",
      "source": [
        "scaler= MinMaxScaler(feature_range=(0,1))\n",
        "stock_price= scaler.fit_transform(trained_data)"
      ],
      "metadata": {
        "id": "quR9b5uCp_fQ"
      },
      "execution_count": 12,
      "outputs": []
    },
    {
      "cell_type": "code",
      "source": [
        "stock_price.shape"
      ],
      "metadata": {
        "colab": {
          "base_uri": "https://localhost:8080/"
        },
        "id": "yUXnzxsBrjwu",
        "outputId": "89e4bd15-c762-4a86-9635-d03b73054b0f"
      },
      "execution_count": 13,
      "outputs": [
        {
          "output_type": "execute_result",
          "data": {
            "text/plain": [
              "(1258, 1)"
            ]
          },
          "metadata": {},
          "execution_count": 13
        }
      ]
    },
    {
      "cell_type": "markdown",
      "source": [
        "### Below we will be taking previous 40 days open datasteps to predict the next values.\n",
        "### so we are converting our train data as per our input in LTSM layers. i.e for taking 0 to 39 days open price to get 40th day price as output, 1 to 40 for 41, 2 to 41 for 42\n",
        "\n"
      ],
      "metadata": {
        "id": "W2SATVSXFf5K"
      }
    },
    {
      "cell_type": "markdown",
      "source": [
        "### Here we are doing Feature Selection"
      ],
      "metadata": {
        "id": "aJSxAGLlGNts"
      }
    },
    {
      "cell_type": "code",
      "source": [
        "xtrain= []\n",
        "y_train= []\n",
        "\n",
        "for i in range(40, len(stock_price)):\n",
        "    xtrain.append(stock_price[i-40: i,0])\n",
        "    y_train.append(stock_price[i,0])\n",
        "#       print(i)"
      ],
      "metadata": {
        "id": "RRWfvgUXr56z"
      },
      "execution_count": 14,
      "outputs": []
    },
    {
      "cell_type": "code",
      "source": [
        "# x_train"
      ],
      "metadata": {
        "id": "L5cqxhBZsOh4"
      },
      "execution_count": 15,
      "outputs": []
    },
    {
      "cell_type": "code",
      "source": [
        "xtrain= np.array(xtrain)\n",
        "y_train= np.array(y_train)"
      ],
      "metadata": {
        "id": "QC_aYJNaeCG5"
      },
      "execution_count": 16,
      "outputs": []
    },
    {
      "cell_type": "code",
      "source": [
        "xtrain.shape"
      ],
      "metadata": {
        "colab": {
          "base_uri": "https://localhost:8080/"
        },
        "id": "VYh5MzO9eFRB",
        "outputId": "d16b366b-57f9-4f80-f273-6c74af839518"
      },
      "execution_count": 17,
      "outputs": [
        {
          "output_type": "execute_result",
          "data": {
            "text/plain": [
              "(1218, 40)"
            ]
          },
          "metadata": {},
          "execution_count": 17
        }
      ]
    },
    {
      "cell_type": "code",
      "source": [
        "y_train.shape"
      ],
      "metadata": {
        "colab": {
          "base_uri": "https://localhost:8080/"
        },
        "id": "RVjOGCmfeJpW",
        "outputId": "f98abc6a-cd23-4357-aab4-1aa7048f74f0"
      },
      "execution_count": 18,
      "outputs": [
        {
          "output_type": "execute_result",
          "data": {
            "text/plain": [
              "(1218,)"
            ]
          },
          "metadata": {},
          "execution_count": 18
        }
      ]
    },
    {
      "cell_type": "markdown",
      "source": [
        "### Reshaping the input as per input given to LSTM model"
      ],
      "metadata": {
        "id": "ckkaqd7pGeG_"
      }
    },
    {
      "cell_type": "code",
      "source": [
        "x_train= xtrain.reshape(xtrain.shape[0], xtrain.shape[1],1)"
      ],
      "metadata": {
        "id": "mEbYTOASeLX4"
      },
      "execution_count": 19,
      "outputs": []
    },
    {
      "cell_type": "markdown",
      "source": [
        "### Building  LSTM Network"
      ],
      "metadata": {
        "id": "so40l_QOeQPr"
      }
    },
    {
      "cell_type": "code",
      "source": [
        "model= Sequential()\n",
        "model.add(LSTM(units= 50, return_sequences=True, input_shape= (x_train.shape[1], 1)))\n",
        "model.add(Dropout(0.2))\n",
        "\n",
        "model.add(LSTM(units= 50, return_sequences=True))\n",
        "model.add(Dropout(0.2))\n",
        "\n",
        "model.add(LSTM(units= 50, return_sequences=True))\n",
        "model.add(Dropout(0.2))\n",
        "\n",
        "model.add(LSTM(units= 50))\n",
        "model.add(Dropout(0.2))\n",
        "\n",
        "model.add(Dense(units=1))\n",
        "\n",
        "model.compile(optimizer= 'adam', loss= 'mean_squared_error')"
      ],
      "metadata": {
        "id": "64EF254KeNd6"
      },
      "execution_count": 20,
      "outputs": []
    },
    {
      "cell_type": "code",
      "source": [
        "history= model.fit(x_train, y_train, epochs= 100, validation_split= 0.22)"
      ],
      "metadata": {
        "colab": {
          "base_uri": "https://localhost:8080/"
        },
        "id": "KEN_TaGkgyiF",
        "outputId": "5bb0bf99-28dc-48ee-eec5-8db227ecd411"
      },
      "execution_count": 21,
      "outputs": [
        {
          "output_type": "stream",
          "name": "stdout",
          "text": [
            "Epoch 1/100\n",
            "30/30 [==============================] - 14s 114ms/step - loss: 0.0346 - val_loss: 0.0066\n",
            "Epoch 2/100\n",
            "30/30 [==============================] - 1s 24ms/step - loss: 0.0129 - val_loss: 0.0018\n",
            "Epoch 3/100\n",
            "30/30 [==============================] - 1s 23ms/step - loss: 0.0100 - val_loss: 9.7214e-04\n",
            "Epoch 4/100\n",
            "30/30 [==============================] - 1s 26ms/step - loss: 0.0096 - val_loss: 0.0019\n",
            "Epoch 5/100\n",
            "30/30 [==============================] - 1s 25ms/step - loss: 0.0084 - val_loss: 0.0011\n",
            "Epoch 6/100\n",
            "30/30 [==============================] - 1s 25ms/step - loss: 0.0083 - val_loss: 9.8381e-04\n",
            "Epoch 7/100\n",
            "30/30 [==============================] - 1s 33ms/step - loss: 0.0070 - val_loss: 0.0015\n",
            "Epoch 8/100\n",
            "30/30 [==============================] - 1s 31ms/step - loss: 0.0071 - val_loss: 7.5174e-04\n",
            "Epoch 9/100\n",
            "30/30 [==============================] - 1s 27ms/step - loss: 0.0065 - val_loss: 0.0014\n",
            "Epoch 10/100\n",
            "30/30 [==============================] - 1s 25ms/step - loss: 0.0068 - val_loss: 0.0012\n",
            "Epoch 11/100\n",
            "30/30 [==============================] - 1s 21ms/step - loss: 0.0083 - val_loss: 0.0021\n",
            "Epoch 12/100\n",
            "30/30 [==============================] - 0s 14ms/step - loss: 0.0079 - val_loss: 0.0027\n",
            "Epoch 13/100\n",
            "30/30 [==============================] - 0s 14ms/step - loss: 0.0066 - val_loss: 7.3626e-04\n",
            "Epoch 14/100\n",
            "30/30 [==============================] - 0s 14ms/step - loss: 0.0063 - val_loss: 6.9989e-04\n",
            "Epoch 15/100\n",
            "30/30 [==============================] - 0s 14ms/step - loss: 0.0059 - val_loss: 0.0013\n",
            "Epoch 16/100\n",
            "30/30 [==============================] - 0s 14ms/step - loss: 0.0057 - val_loss: 8.2840e-04\n",
            "Epoch 17/100\n",
            "30/30 [==============================] - 0s 14ms/step - loss: 0.0052 - val_loss: 6.9014e-04\n",
            "Epoch 18/100\n",
            "30/30 [==============================] - 0s 14ms/step - loss: 0.0048 - val_loss: 0.0011\n",
            "Epoch 19/100\n",
            "30/30 [==============================] - 0s 14ms/step - loss: 0.0047 - val_loss: 8.7679e-04\n",
            "Epoch 20/100\n",
            "30/30 [==============================] - 0s 15ms/step - loss: 0.0052 - val_loss: 8.9779e-04\n",
            "Epoch 21/100\n",
            "30/30 [==============================] - 0s 15ms/step - loss: 0.0049 - val_loss: 0.0015\n",
            "Epoch 22/100\n",
            "30/30 [==============================] - 0s 15ms/step - loss: 0.0049 - val_loss: 6.2366e-04\n",
            "Epoch 23/100\n",
            "30/30 [==============================] - 0s 14ms/step - loss: 0.0060 - val_loss: 0.0013\n",
            "Epoch 24/100\n",
            "30/30 [==============================] - 0s 14ms/step - loss: 0.0052 - val_loss: 6.1584e-04\n",
            "Epoch 25/100\n",
            "30/30 [==============================] - 0s 15ms/step - loss: 0.0045 - val_loss: 7.3845e-04\n",
            "Epoch 26/100\n",
            "30/30 [==============================] - 0s 14ms/step - loss: 0.0041 - val_loss: 6.1928e-04\n",
            "Epoch 27/100\n",
            "30/30 [==============================] - 0s 14ms/step - loss: 0.0041 - val_loss: 0.0016\n",
            "Epoch 28/100\n",
            "30/30 [==============================] - 0s 15ms/step - loss: 0.0040 - val_loss: 0.0017\n",
            "Epoch 29/100\n",
            "30/30 [==============================] - 0s 14ms/step - loss: 0.0041 - val_loss: 0.0011\n",
            "Epoch 30/100\n",
            "30/30 [==============================] - 0s 14ms/step - loss: 0.0045 - val_loss: 5.8056e-04\n",
            "Epoch 31/100\n",
            "30/30 [==============================] - 0s 15ms/step - loss: 0.0042 - val_loss: 5.9306e-04\n",
            "Epoch 32/100\n",
            "30/30 [==============================] - 0s 15ms/step - loss: 0.0039 - val_loss: 6.0143e-04\n",
            "Epoch 33/100\n",
            "30/30 [==============================] - 0s 14ms/step - loss: 0.0040 - val_loss: 8.8927e-04\n",
            "Epoch 34/100\n",
            "30/30 [==============================] - 0s 14ms/step - loss: 0.0041 - val_loss: 0.0010\n",
            "Epoch 35/100\n",
            "30/30 [==============================] - 0s 14ms/step - loss: 0.0045 - val_loss: 7.1965e-04\n",
            "Epoch 36/100\n",
            "30/30 [==============================] - 0s 14ms/step - loss: 0.0036 - val_loss: 9.0694e-04\n",
            "Epoch 37/100\n",
            "30/30 [==============================] - 0s 14ms/step - loss: 0.0043 - val_loss: 8.5914e-04\n",
            "Epoch 38/100\n",
            "30/30 [==============================] - 0s 14ms/step - loss: 0.0036 - val_loss: 6.6826e-04\n",
            "Epoch 39/100\n",
            "30/30 [==============================] - 0s 15ms/step - loss: 0.0035 - val_loss: 4.4892e-04\n",
            "Epoch 40/100\n",
            "30/30 [==============================] - 0s 14ms/step - loss: 0.0031 - val_loss: 5.0073e-04\n",
            "Epoch 41/100\n",
            "30/30 [==============================] - 0s 15ms/step - loss: 0.0035 - val_loss: 5.0199e-04\n",
            "Epoch 42/100\n",
            "30/30 [==============================] - 0s 15ms/step - loss: 0.0031 - val_loss: 6.4465e-04\n",
            "Epoch 43/100\n",
            "30/30 [==============================] - 0s 14ms/step - loss: 0.0032 - val_loss: 4.8354e-04\n",
            "Epoch 44/100\n",
            "30/30 [==============================] - 0s 15ms/step - loss: 0.0033 - val_loss: 4.1354e-04\n",
            "Epoch 45/100\n",
            "30/30 [==============================] - 0s 14ms/step - loss: 0.0027 - val_loss: 4.2779e-04\n",
            "Epoch 46/100\n",
            "30/30 [==============================] - 0s 14ms/step - loss: 0.0030 - val_loss: 4.2733e-04\n",
            "Epoch 47/100\n",
            "30/30 [==============================] - 0s 14ms/step - loss: 0.0027 - val_loss: 5.4600e-04\n",
            "Epoch 48/100\n",
            "30/30 [==============================] - 0s 14ms/step - loss: 0.0032 - val_loss: 4.1138e-04\n",
            "Epoch 49/100\n",
            "30/30 [==============================] - 0s 15ms/step - loss: 0.0027 - val_loss: 5.7937e-04\n",
            "Epoch 50/100\n",
            "30/30 [==============================] - 0s 15ms/step - loss: 0.0029 - val_loss: 4.0530e-04\n",
            "Epoch 51/100\n",
            "30/30 [==============================] - 0s 14ms/step - loss: 0.0033 - val_loss: 3.8985e-04\n",
            "Epoch 52/100\n",
            "30/30 [==============================] - 0s 14ms/step - loss: 0.0029 - val_loss: 3.8320e-04\n",
            "Epoch 53/100\n",
            "30/30 [==============================] - 0s 14ms/step - loss: 0.0026 - val_loss: 3.8349e-04\n",
            "Epoch 54/100\n",
            "30/30 [==============================] - 0s 14ms/step - loss: 0.0026 - val_loss: 4.5029e-04\n",
            "Epoch 55/100\n",
            "30/30 [==============================] - 0s 14ms/step - loss: 0.0026 - val_loss: 6.7500e-04\n",
            "Epoch 56/100\n",
            "30/30 [==============================] - 0s 15ms/step - loss: 0.0024 - val_loss: 8.2659e-04\n",
            "Epoch 57/100\n",
            "30/30 [==============================] - 0s 14ms/step - loss: 0.0033 - val_loss: 6.3600e-04\n",
            "Epoch 58/100\n",
            "30/30 [==============================] - 0s 14ms/step - loss: 0.0026 - val_loss: 4.8674e-04\n",
            "Epoch 59/100\n",
            "30/30 [==============================] - 0s 14ms/step - loss: 0.0024 - val_loss: 3.6447e-04\n",
            "Epoch 60/100\n",
            "30/30 [==============================] - 0s 14ms/step - loss: 0.0032 - val_loss: 6.2241e-04\n",
            "Epoch 61/100\n",
            "30/30 [==============================] - 0s 15ms/step - loss: 0.0028 - val_loss: 3.7975e-04\n",
            "Epoch 62/100\n",
            "30/30 [==============================] - 0s 14ms/step - loss: 0.0027 - val_loss: 3.5221e-04\n",
            "Epoch 63/100\n",
            "30/30 [==============================] - 0s 15ms/step - loss: 0.0024 - val_loss: 4.1741e-04\n",
            "Epoch 64/100\n",
            "30/30 [==============================] - 0s 14ms/step - loss: 0.0020 - val_loss: 3.5233e-04\n",
            "Epoch 65/100\n",
            "30/30 [==============================] - 0s 15ms/step - loss: 0.0024 - val_loss: 3.4009e-04\n",
            "Epoch 66/100\n",
            "30/30 [==============================] - 0s 14ms/step - loss: 0.0026 - val_loss: 3.6975e-04\n",
            "Epoch 67/100\n",
            "30/30 [==============================] - 0s 14ms/step - loss: 0.0028 - val_loss: 3.5829e-04\n",
            "Epoch 68/100\n",
            "30/30 [==============================] - 0s 14ms/step - loss: 0.0028 - val_loss: 7.1589e-04\n",
            "Epoch 69/100\n",
            "30/30 [==============================] - 0s 14ms/step - loss: 0.0024 - val_loss: 5.6756e-04\n",
            "Epoch 70/100\n",
            "30/30 [==============================] - 0s 15ms/step - loss: 0.0024 - val_loss: 5.3594e-04\n",
            "Epoch 71/100\n",
            "30/30 [==============================] - 0s 14ms/step - loss: 0.0025 - val_loss: 0.0010\n",
            "Epoch 72/100\n",
            "30/30 [==============================] - 0s 14ms/step - loss: 0.0023 - val_loss: 5.2376e-04\n",
            "Epoch 73/100\n",
            "30/30 [==============================] - 0s 14ms/step - loss: 0.0022 - val_loss: 6.1641e-04\n",
            "Epoch 74/100\n",
            "30/30 [==============================] - 0s 15ms/step - loss: 0.0023 - val_loss: 3.4090e-04\n",
            "Epoch 75/100\n",
            "30/30 [==============================] - 0s 14ms/step - loss: 0.0026 - val_loss: 3.4538e-04\n",
            "Epoch 76/100\n",
            "30/30 [==============================] - 0s 14ms/step - loss: 0.0024 - val_loss: 3.3968e-04\n",
            "Epoch 77/100\n",
            "30/30 [==============================] - 0s 15ms/step - loss: 0.0021 - val_loss: 3.2737e-04\n",
            "Epoch 78/100\n",
            "30/30 [==============================] - 0s 15ms/step - loss: 0.0023 - val_loss: 3.1882e-04\n",
            "Epoch 79/100\n",
            "30/30 [==============================] - 0s 15ms/step - loss: 0.0019 - val_loss: 6.6460e-04\n",
            "Epoch 80/100\n",
            "30/30 [==============================] - 0s 15ms/step - loss: 0.0024 - val_loss: 3.8717e-04\n",
            "Epoch 81/100\n",
            "30/30 [==============================] - 0s 15ms/step - loss: 0.0018 - val_loss: 3.3175e-04\n",
            "Epoch 82/100\n",
            "30/30 [==============================] - 0s 14ms/step - loss: 0.0020 - val_loss: 9.1033e-04\n",
            "Epoch 83/100\n",
            "30/30 [==============================] - 0s 14ms/step - loss: 0.0025 - val_loss: 4.4762e-04\n",
            "Epoch 84/100\n",
            "30/30 [==============================] - 0s 14ms/step - loss: 0.0025 - val_loss: 5.5645e-04\n",
            "Epoch 85/100\n",
            "30/30 [==============================] - 0s 14ms/step - loss: 0.0026 - val_loss: 4.2482e-04\n",
            "Epoch 86/100\n",
            "30/30 [==============================] - 0s 15ms/step - loss: 0.0025 - val_loss: 2.9624e-04\n",
            "Epoch 87/100\n",
            "30/30 [==============================] - 0s 15ms/step - loss: 0.0020 - val_loss: 2.8469e-04\n",
            "Epoch 88/100\n",
            "30/30 [==============================] - 0s 15ms/step - loss: 0.0020 - val_loss: 2.9984e-04\n",
            "Epoch 89/100\n",
            "30/30 [==============================] - 0s 15ms/step - loss: 0.0022 - val_loss: 2.7936e-04\n",
            "Epoch 90/100\n",
            "30/30 [==============================] - 0s 15ms/step - loss: 0.0018 - val_loss: 3.4297e-04\n",
            "Epoch 91/100\n",
            "30/30 [==============================] - 0s 15ms/step - loss: 0.0023 - val_loss: 7.1229e-04\n",
            "Epoch 92/100\n",
            "30/30 [==============================] - 0s 14ms/step - loss: 0.0024 - val_loss: 2.8035e-04\n",
            "Epoch 93/100\n",
            "30/30 [==============================] - 0s 15ms/step - loss: 0.0021 - val_loss: 3.0618e-04\n",
            "Epoch 94/100\n",
            "30/30 [==============================] - 0s 14ms/step - loss: 0.0027 - val_loss: 3.7751e-04\n",
            "Epoch 95/100\n",
            "30/30 [==============================] - 0s 14ms/step - loss: 0.0024 - val_loss: 3.0057e-04\n",
            "Epoch 96/100\n",
            "30/30 [==============================] - 0s 14ms/step - loss: 0.0019 - val_loss: 3.1894e-04\n",
            "Epoch 97/100\n",
            "30/30 [==============================] - 0s 15ms/step - loss: 0.0021 - val_loss: 3.3128e-04\n",
            "Epoch 98/100\n",
            "30/30 [==============================] - 0s 14ms/step - loss: 0.0021 - val_loss: 3.3502e-04\n",
            "Epoch 99/100\n",
            "30/30 [==============================] - 0s 14ms/step - loss: 0.0019 - val_loss: 2.7854e-04\n",
            "Epoch 100/100\n",
            "30/30 [==============================] - 0s 14ms/step - loss: 0.0020 - val_loss: 2.7004e-04\n"
          ]
        }
      ]
    },
    {
      "cell_type": "markdown",
      "source": [
        "### Analysing Test Data\n"
      ],
      "metadata": {
        "id": "p1nplhycMv7I"
      }
    },
    {
      "cell_type": "markdown",
      "source": [
        "##### As we have 40 input in our layer, we will concatenate our train and test and will take last 40 values of our training set with test set"
      ],
      "metadata": {
        "id": "gR8XJ_wzHAKp"
      }
    },
    {
      "cell_type": "code",
      "source": [
        "test= pd.read_csv('./Google_Stock_Price_Test.csv', parse_dates= ['Date'], index_col= 'Date')"
      ],
      "metadata": {
        "id": "aXuoboj1g6UM"
      },
      "execution_count": 22,
      "outputs": []
    },
    {
      "cell_type": "code",
      "source": [
        "test.head()"
      ],
      "metadata": {
        "colab": {
          "base_uri": "https://localhost:8080/",
          "height": 237
        },
        "id": "HUyYD_S36UhC",
        "outputId": "5a097347-d2ba-437a-c0c5-b6844be20ce7"
      },
      "execution_count": 23,
      "outputs": [
        {
          "output_type": "execute_result",
          "data": {
            "text/plain": [
              "              Open    High     Low   Close     Volume\n",
              "Date                                                 \n",
              "2017-01-03  778.81  789.63  775.80  786.14  1,657,300\n",
              "2017-01-04  788.36  791.34  783.16  786.90  1,073,000\n",
              "2017-01-05  786.08  794.48  785.02  794.02  1,335,200\n",
              "2017-01-06  795.26  807.90  792.20  806.15  1,640,200\n",
              "2017-01-09  806.40  809.97  802.83  806.65  1,272,400"
            ],
            "text/html": [
              "\n",
              "  <div id=\"df-6ce3010e-faaf-4192-8f6a-d3caffbb4815\">\n",
              "    <div class=\"colab-df-container\">\n",
              "      <div>\n",
              "<style scoped>\n",
              "    .dataframe tbody tr th:only-of-type {\n",
              "        vertical-align: middle;\n",
              "    }\n",
              "\n",
              "    .dataframe tbody tr th {\n",
              "        vertical-align: top;\n",
              "    }\n",
              "\n",
              "    .dataframe thead th {\n",
              "        text-align: right;\n",
              "    }\n",
              "</style>\n",
              "<table border=\"1\" class=\"dataframe\">\n",
              "  <thead>\n",
              "    <tr style=\"text-align: right;\">\n",
              "      <th></th>\n",
              "      <th>Open</th>\n",
              "      <th>High</th>\n",
              "      <th>Low</th>\n",
              "      <th>Close</th>\n",
              "      <th>Volume</th>\n",
              "    </tr>\n",
              "    <tr>\n",
              "      <th>Date</th>\n",
              "      <th></th>\n",
              "      <th></th>\n",
              "      <th></th>\n",
              "      <th></th>\n",
              "      <th></th>\n",
              "    </tr>\n",
              "  </thead>\n",
              "  <tbody>\n",
              "    <tr>\n",
              "      <th>2017-01-03</th>\n",
              "      <td>778.81</td>\n",
              "      <td>789.63</td>\n",
              "      <td>775.80</td>\n",
              "      <td>786.14</td>\n",
              "      <td>1,657,300</td>\n",
              "    </tr>\n",
              "    <tr>\n",
              "      <th>2017-01-04</th>\n",
              "      <td>788.36</td>\n",
              "      <td>791.34</td>\n",
              "      <td>783.16</td>\n",
              "      <td>786.90</td>\n",
              "      <td>1,073,000</td>\n",
              "    </tr>\n",
              "    <tr>\n",
              "      <th>2017-01-05</th>\n",
              "      <td>786.08</td>\n",
              "      <td>794.48</td>\n",
              "      <td>785.02</td>\n",
              "      <td>794.02</td>\n",
              "      <td>1,335,200</td>\n",
              "    </tr>\n",
              "    <tr>\n",
              "      <th>2017-01-06</th>\n",
              "      <td>795.26</td>\n",
              "      <td>807.90</td>\n",
              "      <td>792.20</td>\n",
              "      <td>806.15</td>\n",
              "      <td>1,640,200</td>\n",
              "    </tr>\n",
              "    <tr>\n",
              "      <th>2017-01-09</th>\n",
              "      <td>806.40</td>\n",
              "      <td>809.97</td>\n",
              "      <td>802.83</td>\n",
              "      <td>806.65</td>\n",
              "      <td>1,272,400</td>\n",
              "    </tr>\n",
              "  </tbody>\n",
              "</table>\n",
              "</div>\n",
              "      <button class=\"colab-df-convert\" onclick=\"convertToInteractive('df-6ce3010e-faaf-4192-8f6a-d3caffbb4815')\"\n",
              "              title=\"Convert this dataframe to an interactive table.\"\n",
              "              style=\"display:none;\">\n",
              "        \n",
              "  <svg xmlns=\"http://www.w3.org/2000/svg\" height=\"24px\"viewBox=\"0 0 24 24\"\n",
              "       width=\"24px\">\n",
              "    <path d=\"M0 0h24v24H0V0z\" fill=\"none\"/>\n",
              "    <path d=\"M18.56 5.44l.94 2.06.94-2.06 2.06-.94-2.06-.94-.94-2.06-.94 2.06-2.06.94zm-11 1L8.5 8.5l.94-2.06 2.06-.94-2.06-.94L8.5 2.5l-.94 2.06-2.06.94zm10 10l.94 2.06.94-2.06 2.06-.94-2.06-.94-.94-2.06-.94 2.06-2.06.94z\"/><path d=\"M17.41 7.96l-1.37-1.37c-.4-.4-.92-.59-1.43-.59-.52 0-1.04.2-1.43.59L10.3 9.45l-7.72 7.72c-.78.78-.78 2.05 0 2.83L4 21.41c.39.39.9.59 1.41.59.51 0 1.02-.2 1.41-.59l7.78-7.78 2.81-2.81c.8-.78.8-2.07 0-2.86zM5.41 20L4 18.59l7.72-7.72 1.47 1.35L5.41 20z\"/>\n",
              "  </svg>\n",
              "      </button>\n",
              "      \n",
              "  <style>\n",
              "    .colab-df-container {\n",
              "      display:flex;\n",
              "      flex-wrap:wrap;\n",
              "      gap: 12px;\n",
              "    }\n",
              "\n",
              "    .colab-df-convert {\n",
              "      background-color: #E8F0FE;\n",
              "      border: none;\n",
              "      border-radius: 50%;\n",
              "      cursor: pointer;\n",
              "      display: none;\n",
              "      fill: #1967D2;\n",
              "      height: 32px;\n",
              "      padding: 0 0 0 0;\n",
              "      width: 32px;\n",
              "    }\n",
              "\n",
              "    .colab-df-convert:hover {\n",
              "      background-color: #E2EBFA;\n",
              "      box-shadow: 0px 1px 2px rgba(60, 64, 67, 0.3), 0px 1px 3px 1px rgba(60, 64, 67, 0.15);\n",
              "      fill: #174EA6;\n",
              "    }\n",
              "\n",
              "    [theme=dark] .colab-df-convert {\n",
              "      background-color: #3B4455;\n",
              "      fill: #D2E3FC;\n",
              "    }\n",
              "\n",
              "    [theme=dark] .colab-df-convert:hover {\n",
              "      background-color: #434B5C;\n",
              "      box-shadow: 0px 1px 3px 1px rgba(0, 0, 0, 0.15);\n",
              "      filter: drop-shadow(0px 1px 2px rgba(0, 0, 0, 0.3));\n",
              "      fill: #FFFFFF;\n",
              "    }\n",
              "  </style>\n",
              "\n",
              "      <script>\n",
              "        const buttonEl =\n",
              "          document.querySelector('#df-6ce3010e-faaf-4192-8f6a-d3caffbb4815 button.colab-df-convert');\n",
              "        buttonEl.style.display =\n",
              "          google.colab.kernel.accessAllowed ? 'block' : 'none';\n",
              "\n",
              "        async function convertToInteractive(key) {\n",
              "          const element = document.querySelector('#df-6ce3010e-faaf-4192-8f6a-d3caffbb4815');\n",
              "          const dataTable =\n",
              "            await google.colab.kernel.invokeFunction('convertToInteractive',\n",
              "                                                     [key], {});\n",
              "          if (!dataTable) return;\n",
              "\n",
              "          const docLinkHtml = 'Like what you see? Visit the ' +\n",
              "            '<a target=\"_blank\" href=https://colab.research.google.com/notebooks/data_table.ipynb>data table notebook</a>'\n",
              "            + ' to learn more about interactive tables.';\n",
              "          element.innerHTML = '';\n",
              "          dataTable['output_type'] = 'display_data';\n",
              "          await google.colab.output.renderOutput(dataTable, element);\n",
              "          const docLink = document.createElement('div');\n",
              "          docLink.innerHTML = docLinkHtml;\n",
              "          element.appendChild(docLink);\n",
              "        }\n",
              "      </script>\n",
              "    </div>\n",
              "  </div>\n",
              "  "
            ]
          },
          "metadata": {},
          "execution_count": 23
        }
      ]
    },
    {
      "cell_type": "code",
      "source": [
        "test.info()"
      ],
      "metadata": {
        "colab": {
          "base_uri": "https://localhost:8080/"
        },
        "id": "hg9I-jNCLu1J",
        "outputId": "70c82d5a-1abf-4760-fc08-dd1593af573b"
      },
      "execution_count": 24,
      "outputs": [
        {
          "output_type": "stream",
          "name": "stdout",
          "text": [
            "<class 'pandas.core.frame.DataFrame'>\n",
            "DatetimeIndex: 20 entries, 2017-01-03 to 2017-01-31\n",
            "Data columns (total 5 columns):\n",
            " #   Column  Non-Null Count  Dtype  \n",
            "---  ------  --------------  -----  \n",
            " 0   Open    20 non-null     float64\n",
            " 1   High    20 non-null     float64\n",
            " 2   Low     20 non-null     float64\n",
            " 3   Close   20 non-null     float64\n",
            " 4   Volume  20 non-null     object \n",
            "dtypes: float64(4), object(1)\n",
            "memory usage: 960.0+ bytes\n"
          ]
        }
      ]
    },
    {
      "cell_type": "code",
      "source": [
        "test.shape"
      ],
      "metadata": {
        "colab": {
          "base_uri": "https://localhost:8080/"
        },
        "id": "b_ePCSiwLzYz",
        "outputId": "a0cf815c-a3e5-4d90-80d8-ebdedfa08640"
      },
      "execution_count": 25,
      "outputs": [
        {
          "output_type": "execute_result",
          "data": {
            "text/plain": [
              "(20, 5)"
            ]
          },
          "metadata": {},
          "execution_count": 25
        }
      ]
    },
    {
      "cell_type": "markdown",
      "source": [
        "### Taking Closing Price of Stocks"
      ],
      "metadata": {
        "id": "uGhuX2qSH3N_"
      }
    },
    {
      "cell_type": "code",
      "source": [
        "test_data= test[['Close']]"
      ],
      "metadata": {
        "id": "Oyje3kq-L4ll"
      },
      "execution_count": 26,
      "outputs": []
    },
    {
      "cell_type": "code",
      "source": [
        "test_data"
      ],
      "metadata": {
        "colab": {
          "base_uri": "https://localhost:8080/",
          "height": 708
        },
        "id": "mnEEJGBbMBYk",
        "outputId": "b8df3de6-a15b-465d-cd8d-e5695212aa67"
      },
      "execution_count": 27,
      "outputs": [
        {
          "output_type": "execute_result",
          "data": {
            "text/plain": [
              "             Close\n",
              "Date              \n",
              "2017-01-03  786.14\n",
              "2017-01-04  786.90\n",
              "2017-01-05  794.02\n",
              "2017-01-06  806.15\n",
              "2017-01-09  806.65\n",
              "2017-01-10  804.79\n",
              "2017-01-11  807.91\n",
              "2017-01-12  806.36\n",
              "2017-01-13  807.88\n",
              "2017-01-17  804.61\n",
              "2017-01-18  806.07\n",
              "2017-01-19  802.17\n",
              "2017-01-20  805.02\n",
              "2017-01-23  819.31\n",
              "2017-01-24  823.87\n",
              "2017-01-25  835.67\n",
              "2017-01-26  832.15\n",
              "2017-01-27  823.31\n",
              "2017-01-30  802.32\n",
              "2017-01-31  796.79"
            ],
            "text/html": [
              "\n",
              "  <div id=\"df-af810945-883e-4cf4-9fe6-c9e3369cf5e6\">\n",
              "    <div class=\"colab-df-container\">\n",
              "      <div>\n",
              "<style scoped>\n",
              "    .dataframe tbody tr th:only-of-type {\n",
              "        vertical-align: middle;\n",
              "    }\n",
              "\n",
              "    .dataframe tbody tr th {\n",
              "        vertical-align: top;\n",
              "    }\n",
              "\n",
              "    .dataframe thead th {\n",
              "        text-align: right;\n",
              "    }\n",
              "</style>\n",
              "<table border=\"1\" class=\"dataframe\">\n",
              "  <thead>\n",
              "    <tr style=\"text-align: right;\">\n",
              "      <th></th>\n",
              "      <th>Close</th>\n",
              "    </tr>\n",
              "    <tr>\n",
              "      <th>Date</th>\n",
              "      <th></th>\n",
              "    </tr>\n",
              "  </thead>\n",
              "  <tbody>\n",
              "    <tr>\n",
              "      <th>2017-01-03</th>\n",
              "      <td>786.14</td>\n",
              "    </tr>\n",
              "    <tr>\n",
              "      <th>2017-01-04</th>\n",
              "      <td>786.90</td>\n",
              "    </tr>\n",
              "    <tr>\n",
              "      <th>2017-01-05</th>\n",
              "      <td>794.02</td>\n",
              "    </tr>\n",
              "    <tr>\n",
              "      <th>2017-01-06</th>\n",
              "      <td>806.15</td>\n",
              "    </tr>\n",
              "    <tr>\n",
              "      <th>2017-01-09</th>\n",
              "      <td>806.65</td>\n",
              "    </tr>\n",
              "    <tr>\n",
              "      <th>2017-01-10</th>\n",
              "      <td>804.79</td>\n",
              "    </tr>\n",
              "    <tr>\n",
              "      <th>2017-01-11</th>\n",
              "      <td>807.91</td>\n",
              "    </tr>\n",
              "    <tr>\n",
              "      <th>2017-01-12</th>\n",
              "      <td>806.36</td>\n",
              "    </tr>\n",
              "    <tr>\n",
              "      <th>2017-01-13</th>\n",
              "      <td>807.88</td>\n",
              "    </tr>\n",
              "    <tr>\n",
              "      <th>2017-01-17</th>\n",
              "      <td>804.61</td>\n",
              "    </tr>\n",
              "    <tr>\n",
              "      <th>2017-01-18</th>\n",
              "      <td>806.07</td>\n",
              "    </tr>\n",
              "    <tr>\n",
              "      <th>2017-01-19</th>\n",
              "      <td>802.17</td>\n",
              "    </tr>\n",
              "    <tr>\n",
              "      <th>2017-01-20</th>\n",
              "      <td>805.02</td>\n",
              "    </tr>\n",
              "    <tr>\n",
              "      <th>2017-01-23</th>\n",
              "      <td>819.31</td>\n",
              "    </tr>\n",
              "    <tr>\n",
              "      <th>2017-01-24</th>\n",
              "      <td>823.87</td>\n",
              "    </tr>\n",
              "    <tr>\n",
              "      <th>2017-01-25</th>\n",
              "      <td>835.67</td>\n",
              "    </tr>\n",
              "    <tr>\n",
              "      <th>2017-01-26</th>\n",
              "      <td>832.15</td>\n",
              "    </tr>\n",
              "    <tr>\n",
              "      <th>2017-01-27</th>\n",
              "      <td>823.31</td>\n",
              "    </tr>\n",
              "    <tr>\n",
              "      <th>2017-01-30</th>\n",
              "      <td>802.32</td>\n",
              "    </tr>\n",
              "    <tr>\n",
              "      <th>2017-01-31</th>\n",
              "      <td>796.79</td>\n",
              "    </tr>\n",
              "  </tbody>\n",
              "</table>\n",
              "</div>\n",
              "      <button class=\"colab-df-convert\" onclick=\"convertToInteractive('df-af810945-883e-4cf4-9fe6-c9e3369cf5e6')\"\n",
              "              title=\"Convert this dataframe to an interactive table.\"\n",
              "              style=\"display:none;\">\n",
              "        \n",
              "  <svg xmlns=\"http://www.w3.org/2000/svg\" height=\"24px\"viewBox=\"0 0 24 24\"\n",
              "       width=\"24px\">\n",
              "    <path d=\"M0 0h24v24H0V0z\" fill=\"none\"/>\n",
              "    <path d=\"M18.56 5.44l.94 2.06.94-2.06 2.06-.94-2.06-.94-.94-2.06-.94 2.06-2.06.94zm-11 1L8.5 8.5l.94-2.06 2.06-.94-2.06-.94L8.5 2.5l-.94 2.06-2.06.94zm10 10l.94 2.06.94-2.06 2.06-.94-2.06-.94-.94-2.06-.94 2.06-2.06.94z\"/><path d=\"M17.41 7.96l-1.37-1.37c-.4-.4-.92-.59-1.43-.59-.52 0-1.04.2-1.43.59L10.3 9.45l-7.72 7.72c-.78.78-.78 2.05 0 2.83L4 21.41c.39.39.9.59 1.41.59.51 0 1.02-.2 1.41-.59l7.78-7.78 2.81-2.81c.8-.78.8-2.07 0-2.86zM5.41 20L4 18.59l7.72-7.72 1.47 1.35L5.41 20z\"/>\n",
              "  </svg>\n",
              "      </button>\n",
              "      \n",
              "  <style>\n",
              "    .colab-df-container {\n",
              "      display:flex;\n",
              "      flex-wrap:wrap;\n",
              "      gap: 12px;\n",
              "    }\n",
              "\n",
              "    .colab-df-convert {\n",
              "      background-color: #E8F0FE;\n",
              "      border: none;\n",
              "      border-radius: 50%;\n",
              "      cursor: pointer;\n",
              "      display: none;\n",
              "      fill: #1967D2;\n",
              "      height: 32px;\n",
              "      padding: 0 0 0 0;\n",
              "      width: 32px;\n",
              "    }\n",
              "\n",
              "    .colab-df-convert:hover {\n",
              "      background-color: #E2EBFA;\n",
              "      box-shadow: 0px 1px 2px rgba(60, 64, 67, 0.3), 0px 1px 3px 1px rgba(60, 64, 67, 0.15);\n",
              "      fill: #174EA6;\n",
              "    }\n",
              "\n",
              "    [theme=dark] .colab-df-convert {\n",
              "      background-color: #3B4455;\n",
              "      fill: #D2E3FC;\n",
              "    }\n",
              "\n",
              "    [theme=dark] .colab-df-convert:hover {\n",
              "      background-color: #434B5C;\n",
              "      box-shadow: 0px 1px 3px 1px rgba(0, 0, 0, 0.15);\n",
              "      filter: drop-shadow(0px 1px 2px rgba(0, 0, 0, 0.3));\n",
              "      fill: #FFFFFF;\n",
              "    }\n",
              "  </style>\n",
              "\n",
              "      <script>\n",
              "        const buttonEl =\n",
              "          document.querySelector('#df-af810945-883e-4cf4-9fe6-c9e3369cf5e6 button.colab-df-convert');\n",
              "        buttonEl.style.display =\n",
              "          google.colab.kernel.accessAllowed ? 'block' : 'none';\n",
              "\n",
              "        async function convertToInteractive(key) {\n",
              "          const element = document.querySelector('#df-af810945-883e-4cf4-9fe6-c9e3369cf5e6');\n",
              "          const dataTable =\n",
              "            await google.colab.kernel.invokeFunction('convertToInteractive',\n",
              "                                                     [key], {});\n",
              "          if (!dataTable) return;\n",
              "\n",
              "          const docLinkHtml = 'Like what you see? Visit the ' +\n",
              "            '<a target=\"_blank\" href=https://colab.research.google.com/notebooks/data_table.ipynb>data table notebook</a>'\n",
              "            + ' to learn more about interactive tables.';\n",
              "          element.innerHTML = '';\n",
              "          dataTable['output_type'] = 'display_data';\n",
              "          await google.colab.output.renderOutput(dataTable, element);\n",
              "          const docLink = document.createElement('div');\n",
              "          docLink.innerHTML = docLinkHtml;\n",
              "          element.appendChild(docLink);\n",
              "        }\n",
              "      </script>\n",
              "    </div>\n",
              "  </div>\n",
              "  "
            ]
          },
          "metadata": {},
          "execution_count": 27
        }
      ]
    },
    {
      "cell_type": "markdown",
      "source": [
        "### Plotting the Closing Price"
      ],
      "metadata": {
        "id": "hEkaaW_7H5mf"
      }
    },
    {
      "cell_type": "code",
      "source": [
        "test_data.plot()"
      ],
      "metadata": {
        "colab": {
          "base_uri": "https://localhost:8080/",
          "height": 302
        },
        "id": "doRQMYyWMENi",
        "outputId": "88952552-e2c2-4ce9-982b-34c949b90c33"
      },
      "execution_count": 28,
      "outputs": [
        {
          "output_type": "execute_result",
          "data": {
            "text/plain": [
              "<matplotlib.axes._subplots.AxesSubplot at 0x7f964ecf7190>"
            ]
          },
          "metadata": {},
          "execution_count": 28
        },
        {
          "output_type": "display_data",
          "data": {
            "text/plain": [
              "<Figure size 432x288 with 1 Axes>"
            ],
            "image/png": "[encoded data removed]"
          },
          "metadata": {
            "needs_background": "light"
          }
        }
      ]
    },
    {
      "cell_type": "markdown",
      "source": [
        "### Concating train and test and then will take last 40 train point"
      ],
      "metadata": {
        "id": "zdsMo8CPH97G"
      }
    },
    {
      "cell_type": "code",
      "source": [
        "total= pd.concat([trained_data['Close'], test_data['Close']], axis= 0)"
      ],
      "metadata": {
        "id": "B3HNS9N9MMsZ"
      },
      "execution_count": 29,
      "outputs": []
    },
    {
      "cell_type": "code",
      "source": [
        "total.shape"
      ],
      "metadata": {
        "colab": {
          "base_uri": "https://localhost:8080/"
        },
        "id": "jTcRcp4QMQce",
        "outputId": "28e81486-500f-47f4-9c14-3260e70f89f1"
      },
      "execution_count": 30,
      "outputs": [
        {
          "output_type": "execute_result",
          "data": {
            "text/plain": [
              "(1278,)"
            ]
          },
          "metadata": {},
          "execution_count": 30
        }
      ]
    },
    {
      "cell_type": "code",
      "source": [
        "test_data1= total[len(total)- len(test)-40:].values"
      ],
      "metadata": {
        "id": "SNFsP37DMgPm"
      },
      "execution_count": 31,
      "outputs": []
    },
    {
      "cell_type": "markdown",
      "source": [
        "### reshaping it to get it transformed"
      ],
      "metadata": {
        "id": "43j_8l46IOFv"
      }
    },
    {
      "cell_type": "code",
      "source": [
        "test_data1= test_data1.reshape(-1,1)\n",
        "test_data1[7]"
      ],
      "metadata": {
        "colab": {
          "base_uri": "https://localhost:8080/"
        },
        "id": "hKEdZ5kvMpHy",
        "outputId": "8631fcf0-fff0-47cc-8608-97fb0fe176e1"
      },
      "execution_count": 32,
      "outputs": [
        {
          "output_type": "execute_result",
          "data": {
            "text/plain": [
              "array([736.08])"
            ]
          },
          "metadata": {},
          "execution_count": 32
        }
      ]
    },
    {
      "cell_type": "code",
      "source": [
        "test_data1.max()"
      ],
      "metadata": {
        "colab": {
          "base_uri": "https://localhost:8080/"
        },
        "id": "JguAngKl5dAN",
        "outputId": "cd37ea1c-d406-46dd-d689-93572e6dce04"
      },
      "execution_count": 33,
      "outputs": [
        {
          "output_type": "execute_result",
          "data": {
            "text/plain": [
              "835.67"
            ]
          },
          "metadata": {},
          "execution_count": 33
        }
      ]
    },
    {
      "cell_type": "code",
      "source": [
        "test_input= scaler.fit_transform(test_data1)"
      ],
      "metadata": {
        "id": "2t_8e1zjMsPU"
      },
      "execution_count": 34,
      "outputs": []
    },
    {
      "cell_type": "code",
      "source": [
        "test_input.max()"
      ],
      "metadata": {
        "colab": {
          "base_uri": "https://localhost:8080/"
        },
        "id": "_k2coYTuxYFu",
        "outputId": "9c36112e-5367-4406-9ca3-c47cb462d897"
      },
      "execution_count": 35,
      "outputs": [
        {
          "output_type": "execute_result",
          "data": {
            "text/plain": [
              "1.0"
            ]
          },
          "metadata": {},
          "execution_count": 35
        }
      ]
    },
    {
      "cell_type": "markdown",
      "source": [
        "### Creating the input for LSTM Prediction"
      ],
      "metadata": {
        "id": "G_DUiaPZITA-"
      }
    },
    {
      "cell_type": "code",
      "source": [
        "x_test= []\n",
        "for i in range(40,60):\n",
        "  x_test.append(test_input[i-40:i, 0])"
      ],
      "metadata": {
        "id": "J8FSJwwnzQH5"
      },
      "execution_count": 36,
      "outputs": []
    },
    {
      "cell_type": "code",
      "source": [
        "x_test= np.array(x_test)"
      ],
      "metadata": {
        "id": "2fSxyet5z4w8"
      },
      "execution_count": 37,
      "outputs": []
    },
    {
      "cell_type": "markdown",
      "source": [
        "### Reshaping the input for LSTM prediction"
      ],
      "metadata": {
        "id": "OP7-mswdIcDt"
      }
    },
    {
      "cell_type": "code",
      "source": [
        "x_test= x_test.reshape(x_test.shape[0], x_test.shape[1], 1)"
      ],
      "metadata": {
        "id": "-x0arhE9z9V-"
      },
      "execution_count": 38,
      "outputs": []
    },
    {
      "cell_type": "code",
      "source": [
        "x_test.shape"
      ],
      "metadata": {
        "colab": {
          "base_uri": "https://localhost:8080/"
        },
        "id": "8iMecqfp0XG0",
        "outputId": "81bedcca-e0c1-4cde-f185-fa60c149ccca"
      },
      "execution_count": 39,
      "outputs": [
        {
          "output_type": "execute_result",
          "data": {
            "text/plain": [
              "(20, 40, 1)"
            ]
          },
          "metadata": {},
          "execution_count": 39
        }
      ]
    },
    {
      "cell_type": "markdown",
      "source": [
        "### Predicting the closing Price of Stock using Test Data"
      ],
      "metadata": {
        "id": "5h-qxVUnRied"
      }
    },
    {
      "cell_type": "code",
      "source": [
        "predicted_value= model.predict(x_test)"
      ],
      "metadata": {
        "id": "bJLe2aFZ6LXB"
      },
      "execution_count": 40,
      "outputs": []
    },
    {
      "cell_type": "code",
      "source": [
        "predicted_value= scaler.inverse_transform(predicted_value)"
      ],
      "metadata": {
        "id": "R2cynOzAiahB"
      },
      "execution_count": 41,
      "outputs": []
    },
    {
      "cell_type": "code",
      "source": [
        "test_data['predicted_value']= predicted_value"
      ],
      "metadata": {
        "colab": {
          "base_uri": "https://localhost:8080/"
        },
        "id": "I04UBlXrkZfN",
        "outputId": "f98a0b2b-93a1-4bb7-bf62-6a051b99e607"
      },
      "execution_count": 42,
      "outputs": [
        {
          "output_type": "stream",
          "name": "stderr",
          "text": [
            "/usr/local/lib/python3.7/dist-packages/ipykernel_launcher.py:1: SettingWithCopyWarning: \n",
            "A value is trying to be set on a copy of a slice from a DataFrame.\n",
            "Try using .loc[row_indexer,col_indexer] = value instead\n",
            "\n",
            "See the caveats in the documentation: https://pandas.pydata.org/pandas-docs/stable/user_guide/indexing.html#returning-a-view-versus-a-copy\n",
            "  \"\"\"Entry point for launching an IPython kernel.\n"
          ]
        }
      ]
    },
    {
      "cell_type": "code",
      "source": [
        "test_data.head()"
      ],
      "metadata": {
        "colab": {
          "base_uri": "https://localhost:8080/",
          "height": 237
        },
        "id": "htQzgooOkksw",
        "outputId": "e5808450-ccd0-4d6a-89b4-a3619024b710"
      },
      "execution_count": 43,
      "outputs": [
        {
          "output_type": "execute_result",
          "data": {
            "text/plain": [
              "             Close  predicted_value\n",
              "Date                               \n",
              "2017-01-03  786.14       778.702576\n",
              "2017-01-04  786.90       779.072754\n",
              "2017-01-05  794.02       782.416504\n",
              "2017-01-06  806.15       788.002380\n",
              "2017-01-09  806.65       796.801575"
            ],
            "text/html": [
              "\n",
              "  <div id=\"df-5a08c390-61af-4b1a-b0d4-c6db27428aa5\">\n",
              "    <div class=\"colab-df-container\">\n",
              "      <div>\n",
              "<style scoped>\n",
              "    .dataframe tbody tr th:only-of-type {\n",
              "        vertical-align: middle;\n",
              "    }\n",
              "\n",
              "    .dataframe tbody tr th {\n",
              "        vertical-align: top;\n",
              "    }\n",
              "\n",
              "    .dataframe thead th {\n",
              "        text-align: right;\n",
              "    }\n",
              "</style>\n",
              "<table border=\"1\" class=\"dataframe\">\n",
              "  <thead>\n",
              "    <tr style=\"text-align: right;\">\n",
              "      <th></th>\n",
              "      <th>Close</th>\n",
              "      <th>predicted_value</th>\n",
              "    </tr>\n",
              "    <tr>\n",
              "      <th>Date</th>\n",
              "      <th></th>\n",
              "      <th></th>\n",
              "    </tr>\n",
              "  </thead>\n",
              "  <tbody>\n",
              "    <tr>\n",
              "      <th>2017-01-03</th>\n",
              "      <td>786.14</td>\n",
              "      <td>778.702576</td>\n",
              "    </tr>\n",
              "    <tr>\n",
              "      <th>2017-01-04</th>\n",
              "      <td>786.90</td>\n",
              "      <td>779.072754</td>\n",
              "    </tr>\n",
              "    <tr>\n",
              "      <th>2017-01-05</th>\n",
              "      <td>794.02</td>\n",
              "      <td>782.416504</td>\n",
              "    </tr>\n",
              "    <tr>\n",
              "      <th>2017-01-06</th>\n",
              "      <td>806.15</td>\n",
              "      <td>788.002380</td>\n",
              "    </tr>\n",
              "    <tr>\n",
              "      <th>2017-01-09</th>\n",
              "      <td>806.65</td>\n",
              "      <td>796.801575</td>\n",
              "    </tr>\n",
              "  </tbody>\n",
              "</table>\n",
              "</div>\n",
              "      <button class=\"colab-df-convert\" onclick=\"convertToInteractive('df-5a08c390-61af-4b1a-b0d4-c6db27428aa5')\"\n",
              "              title=\"Convert this dataframe to an interactive table.\"\n",
              "              style=\"display:none;\">\n",
              "        \n",
              "  <svg xmlns=\"http://www.w3.org/2000/svg\" height=\"24px\"viewBox=\"0 0 24 24\"\n",
              "       width=\"24px\">\n",
              "    <path d=\"M0 0h24v24H0V0z\" fill=\"none\"/>\n",
              "    <path d=\"M18.56 5.44l.94 2.06.94-2.06 2.06-.94-2.06-.94-.94-2.06-.94 2.06-2.06.94zm-11 1L8.5 8.5l.94-2.06 2.06-.94-2.06-.94L8.5 2.5l-.94 2.06-2.06.94zm10 10l.94 2.06.94-2.06 2.06-.94-2.06-.94-.94-2.06-.94 2.06-2.06.94z\"/><path d=\"M17.41 7.96l-1.37-1.37c-.4-.4-.92-.59-1.43-.59-.52 0-1.04.2-1.43.59L10.3 9.45l-7.72 7.72c-.78.78-.78 2.05 0 2.83L4 21.41c.39.39.9.59 1.41.59.51 0 1.02-.2 1.41-.59l7.78-7.78 2.81-2.81c.8-.78.8-2.07 0-2.86zM5.41 20L4 18.59l7.72-7.72 1.47 1.35L5.41 20z\"/>\n",
              "  </svg>\n",
              "      </button>\n",
              "      \n",
              "  <style>\n",
              "    .colab-df-container {\n",
              "      display:flex;\n",
              "      flex-wrap:wrap;\n",
              "      gap: 12px;\n",
              "    }\n",
              "\n",
              "    .colab-df-convert {\n",
              "      background-color: #E8F0FE;\n",
              "      border: none;\n",
              "      border-radius: 50%;\n",
              "      cursor: pointer;\n",
              "      display: none;\n",
              "      fill: #1967D2;\n",
              "      height: 32px;\n",
              "      padding: 0 0 0 0;\n",
              "      width: 32px;\n",
              "    }\n",
              "\n",
              "    .colab-df-convert:hover {\n",
              "      background-color: #E2EBFA;\n",
              "      box-shadow: 0px 1px 2px rgba(60, 64, 67, 0.3), 0px 1px 3px 1px rgba(60, 64, 67, 0.15);\n",
              "      fill: #174EA6;\n",
              "    }\n",
              "\n",
              "    [theme=dark] .colab-df-convert {\n",
              "      background-color: #3B4455;\n",
              "      fill: #D2E3FC;\n",
              "    }\n",
              "\n",
              "    [theme=dark] .colab-df-convert:hover {\n",
              "      background-color: #434B5C;\n",
              "      box-shadow: 0px 1px 3px 1px rgba(0, 0, 0, 0.15);\n",
              "      filter: drop-shadow(0px 1px 2px rgba(0, 0, 0, 0.3));\n",
              "      fill: #FFFFFF;\n",
              "    }\n",
              "  </style>\n",
              "\n",
              "      <script>\n",
              "        const buttonEl =\n",
              "          document.querySelector('#df-5a08c390-61af-4b1a-b0d4-c6db27428aa5 button.colab-df-convert');\n",
              "        buttonEl.style.display =\n",
              "          google.colab.kernel.accessAllowed ? 'block' : 'none';\n",
              "\n",
              "        async function convertToInteractive(key) {\n",
              "          const element = document.querySelector('#df-5a08c390-61af-4b1a-b0d4-c6db27428aa5');\n",
              "          const dataTable =\n",
              "            await google.colab.kernel.invokeFunction('convertToInteractive',\n",
              "                                                     [key], {});\n",
              "          if (!dataTable) return;\n",
              "\n",
              "          const docLinkHtml = 'Like what you see? Visit the ' +\n",
              "            '<a target=\"_blank\" href=https://colab.research.google.com/notebooks/data_table.ipynb>data table notebook</a>'\n",
              "            + ' to learn more about interactive tables.';\n",
              "          element.innerHTML = '';\n",
              "          dataTable['output_type'] = 'display_data';\n",
              "          await google.colab.output.renderOutput(dataTable, element);\n",
              "          const docLink = document.createElement('div');\n",
              "          docLink.innerHTML = docLinkHtml;\n",
              "          element.appendChild(docLink);\n",
              "        }\n",
              "      </script>\n",
              "    </div>\n",
              "  </div>\n",
              "  "
            ]
          },
          "metadata": {},
          "execution_count": 43
        }
      ]
    },
    {
      "cell_type": "markdown",
      "source": [
        "### Plotting the Graph between Actual Price and Predicted Price"
      ],
      "metadata": {
        "id": "BO6spyuNRu2P"
      }
    },
    {
      "cell_type": "code",
      "source": [
        "plt.figure(figsize= (16,8))\n",
        "plt.plot(test_data['Close'], 'red', label= 'Actual Price')\n",
        "plt.plot(test_data['predicted_value'], 'blue', label= 'Predicted value')\n",
        "plt.xlabel('date')\n",
        "plt.ylabel('Prices')\n",
        "plt.title('Real vs Predicted Prices')\n",
        "plt.legend(loc='best', fontsize=20)"
      ],
      "metadata": {
        "colab": {
          "base_uri": "https://localhost:8080/",
          "height": 530
        },
        "id": "GBgQZsbYizEI",
        "outputId": "c41fae83-012a-4d33-cbe7-cd62e40d9eaa"
      },
      "execution_count": 44,
      "outputs": [
        {
          "output_type": "execute_result",
          "data": {
            "text/plain": [
              "<matplotlib.legend.Legend at 0x7f964f3d7190>"
            ]
          },
          "metadata": {},
          "execution_count": 44
        },
        {
          "output_type": "display_data",
          "data": {
            "text/plain": [
              "<Figure size 1152x576 with 1 Axes>"
            ],
            "image/png": "[encoded data removed]"
          },
          "metadata": {
            "needs_background": "light"
          }
        }
      ]
    },
    {
      "cell_type": "code",
      "source": [
        "print(history.history.keys())"
      ],
      "metadata": {
        "colab": {
          "base_uri": "https://localhost:8080/"
        },
        "id": "uw9T7PAEjIlq",
        "outputId": "44945cd0-0cc0-40be-cea3-5ab01e7ecbdf"
      },
      "execution_count": 45,
      "outputs": [
        {
          "output_type": "stream",
          "name": "stdout",
          "text": [
            "dict_keys(['loss', 'val_loss'])\n"
          ]
        }
      ]
    },
    {
      "cell_type": "markdown",
      "source": [
        "### Plotting the Validation loss curve to find out if it is good fit or not"
      ],
      "metadata": {
        "id": "4dWCgLfIR6Ec"
      }
    },
    {
      "cell_type": "code",
      "source": [
        "plt.figure(figsize= (16,10))\n",
        "plt.plot(history.history['loss'])\n",
        "plt.plot(history.history['val_loss'])\n",
        "plt.title('model loss')\n",
        "plt.ylabel('loss')\n",
        "plt.xlabel('epoch')\n",
        "plt.legend(['train', 'test'], loc='upper left')\n",
        "plt.show()"
      ],
      "metadata": {
        "colab": {
          "base_uri": "https://localhost:8080/",
          "height": 621
        },
        "id": "j8hXCoMgj2cV",
        "outputId": "ec1a2f3c-168d-4a8f-cbb7-b40140471260"
      },
      "execution_count": 46,
      "outputs": [
        {
          "output_type": "display_data",
          "data": {
            "text/plain": [
              "<Figure size 1152x720 with 1 Axes>"
            ],
            "image/png": "[encoded data removed]"
          },
          "metadata": {
            "needs_background": "light"
          }
        }
      ]
    },
    {
      "cell_type": "code",
      "source": [],
      "metadata": {
        "id": "ONMKKglyuGGk"
      },
      "execution_count": 46,
      "outputs": []
    }
  ]
}